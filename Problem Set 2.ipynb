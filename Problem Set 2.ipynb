{
 "cells": [
  {
   "cell_type": "markdown",
   "metadata": {},
   "source": [
    "# Question 1"
   ]
  },
  {
   "cell_type": "code",
   "execution_count": 4,
   "metadata": {},
   "outputs": [
    {
     "name": "stdout",
     "output_type": "stream",
     "text": [
      "6\n"
     ]
    }
   ],
   "source": [
    "a = 0\n",
    "def b():\n",
    "    'function b'\n",
    "    global a #global variable inside function b\n",
    "    a = c(a) #calling function c\n",
    "def c(a):\n",
    "    'function c'\n",
    "    return a + 2\n",
    "\n",
    "b()\n",
    "b()\n",
    "b()\n",
    "\n",
    "print(a)\n",
    "#a being a global variable inside b function and when the function get call a get intialized at 0 \n",
    "#and when c function get call it add a by 2.  i.e a+2, 2+2, 4+2 = 6"
   ]
  },
  {
   "cell_type": "markdown",
   "metadata": {},
   "source": [
    "# Question 2"
   ]
  },
  {
   "cell_type": "code",
   "execution_count": 5,
   "metadata": {
    "scrolled": true
   },
   "outputs": [
    {
     "name": "stdout",
     "output_type": "stream",
     "text": [
      "886\n",
      "File Problem Set 1.ipyn not found.\n"
     ]
    }
   ],
   "source": [
    "def fileLength(Filename):\n",
    "    'file length function to calculate length of the file'\n",
    "    try:\n",
    "        infile = open(Filename) #opening the file\n",
    "        line = infile.readlines() #reading line from the file\n",
    "        strLength = len(line) #calculating length  of the line\n",
    "        print(strLength) #printing length value of the file \n",
    "    except IOError:\n",
    "        print('File '+Filename+ \" not found.\") #error message  \n",
    "    \n",
    "fileLength(r'Problem Set 1.ipynb')\n",
    "\n",
    "fileLength(r'Problem Set 1.ipyn')"
   ]
  },
  {
   "cell_type": "markdown",
   "metadata": {},
   "source": [
    "# Question 3"
   ]
  },
  {
   "cell_type": "code",
   "execution_count": 6,
   "metadata": {},
   "outputs": [
    {
     "name": "stdout",
     "output_type": "stream",
     "text": [
      "['doll', 'firetruck', 'kitten']\n",
      "I am a Kangaroo located at coordinates (0, 0)\n",
      "['doll', 'firetruck', 'kitten']\n",
      "I am a Kangaroo located at coordinates (3, 0)\n"
     ]
    }
   ],
   "source": [
    "class Marsupial:\n",
    "    \n",
    "    def __init__(self):\n",
    "        'initializing toys list'\n",
    "        self.toys = [ ]\n",
    "        \n",
    "    def put_in_pouch(self,toy):\n",
    "        'appending toys'\n",
    "        self.toys.append(toy)\n",
    "    \n",
    "    def pouch_contents(self):\n",
    "        'printing toys list'\n",
    "        print(self.toys)\n",
    "        \n",
    "m = Marsupial()\n",
    "m.put_in_pouch('doll')\n",
    "m.put_in_pouch('firetruck')\n",
    "m.put_in_pouch('kitten')\n",
    "m.pouch_contents()\n",
    "\n",
    "class Kangaroo(Marsupial):\n",
    "    \n",
    "    def __init__(self,xcord=0,ycord=0):\n",
    "        'initializing xcord,ycord,list'\n",
    "        self.x = xcord\n",
    "        self.y = ycord\n",
    "        self.toys = [ ]\n",
    "        \n",
    "    def jump(self,dx,dy):\n",
    "        'adding new coordinate'\n",
    "        self.x+=dx\n",
    "        self.y+=dy\n",
    "        return(self.x,self.y)\n",
    "    \n",
    "    def __str__(self):\n",
    "        'returing the value'\n",
    "        return('I am a Kangaroo located at coordinates ({}, {})'.format(self.x,self.y))\n",
    "        \n",
    "        \n",
    "k = Kangaroo(0,0)\n",
    "print(k)\n",
    "k.put_in_pouch('doll')\n",
    "k.put_in_pouch('firetruck')\n",
    "k.put_in_pouch('kitten')\n",
    "k.pouch_contents()\n",
    "\n",
    "k.jump(1,0)\n",
    "k.jump(1,0)\n",
    "k.jump(1,0)\n",
    "print(k)\n"
   ]
  },
  {
   "cell_type": "markdown",
   "metadata": {},
   "source": [
    "# Question 4\n",
    "\n",
    "Output of the program is uploaded as PDF on GitHub, Please check BDAT1004PS02 repository"
   ]
  },
  {
   "cell_type": "code",
   "execution_count": null,
   "metadata": {},
   "outputs": [],
   "source": [
    "from tkinter import *\n",
    "\n",
    "class Calc(Frame):\n",
    "    'Calculator class'\n",
    "    def __init__(self,master):\n",
    "        'initializing canvas,frame,buttons'\n",
    "        canvas = Canvas(master,height = 30,width = 300,relief=SUNKEN, borderwidth =3, bg='lightgrey')\n",
    "        canvas.pack(expand=True,  fill = BOTH)\n",
    "        \n",
    "        Frame.__init__(self,master)\n",
    "        \n",
    "        textarea = Frame(master) #binding textarea in a frame\n",
    "        textarea.pack(side=LEFT) #packing frame to the left\n",
    "        \n",
    "        \n",
    "\n",
    "        buttons = [['MC', 'M+', 'M-','MR'],     \n",
    "                       ['C', '√', 'x2', '+'],     \n",
    "                       ['7', '8', '9','-'],\n",
    "                       ['4', '5', '6','*'],\n",
    "                       ['1', '2', '3','/'],\n",
    "                       ['0', '.', '+-','=']]\n",
    "\n",
    "\n",
    "\n",
    "        for r in range(6):\n",
    "            for c in range(4):\n",
    "        # create buttons for row r and column c\n",
    "                buttons = Button(textarea,\n",
    "                      relief=RAISED,      \n",
    "                      padx=10,\n",
    "                      text=labels[r][c],height=1,width=5)\n",
    "        # place buttons in row r and column c\n",
    "                buttons.grid(row=r, column=c,pady=5,padx=5)\n",
    "        \n",
    "\n",
    "class Mortgage(Frame):\n",
    "    'Mortgage class'\n",
    "    def __init__(self,master):\n",
    "        'initializing canvas,frame,button,labels,entry box'\n",
    "        Frame.__init__(self,master)\n",
    "        \n",
    "        box = Frame(master)\n",
    "        box.pack(side=LEFT)\n",
    "        \n",
    "        loan_amt = Label(box, text = 'Loan Amount:')  # label for loan amount\n",
    "        loan_amt.grid(row=0,column=0,padx=5,pady=5)\n",
    "        interest_rate = Label(box, text = 'Interest rate:')  # label for interest rate\n",
    "        interest_rate.grid(row=1,column=0,padx=5,pady=5)  \n",
    "        loan_terms = Label(box, text = 'Loan terms:')   # label for loan terms\n",
    "        loan_terms.grid(row=2,column=0,padx=5,pady=5)\n",
    "        self.compute_mort = Button(box,text = 'Compute Mortgage')   # button for compute mortgage\n",
    "        self.compute_mort.grid(row = 3,column = 0, padx=5,pady=5)\n",
    "        \n",
    "        self.loanamt_ent = Entry(box,width = 50)   # entry for loan amount\n",
    "        self.loanamt_ent.grid(row = 0,column = 1)\n",
    "        \n",
    "        self.interestrate_ent = Entry(box,width = 50)   # entry for interest rate\n",
    "        self.interestrate_ent.grid(row = 1,column = 1)\n",
    "        \n",
    "        \n",
    "        self.loanterms_ent = Entry(box,width = 50)    # entry for loan terms\n",
    "        self.loanterms_ent.grid(row = 2,column = 1)\n",
    "        \n",
    "        self.computemort_ent = Entry(box,width = 50)   # entry for compute mortgage\n",
    "        self.computemort_ent.grid(row = 3,column = 1)\n",
    "        \n",
    "        \n",
    "        \n",
    "class Common(Frame):\n",
    "    'Common class'   \n",
    "    def __init__(self,master):\n",
    "        \n",
    "        Frame.__init__(self,master)\n",
    "        \n",
    "        mortgage = Mortgage(self)\n",
    "        mortgage.pack(side = LEFT) #packing mortgage frame in to the left\n",
    "        \n",
    "        calcu = Calc(self)\n",
    "        calcu.pack(side = RIGHT) #packing calc frame to the right\n",
    "        \n",
    "root = Tk()\n",
    "mort_cal = Common(root)\n",
    "mort_cal.pack()\n",
    "root.mainloop()"
   ]
  },
  {
   "cell_type": "markdown",
   "metadata": {},
   "source": [
    "# Question 5"
   ]
  },
  {
   "cell_type": "code",
   "execution_count": 7,
   "metadata": {},
   "outputs": [
    {
     "name": "stdout",
     "output_type": "stream",
     "text": [
      "Please insert positive number\n",
      "10\n",
      "5\n",
      "16\n",
      "8\n",
      "4\n",
      "2\n",
      "1\n"
     ]
    }
   ],
   "source": [
    "def collatz(positiveNumber):\n",
    "    'collatz function'\n",
    "    if(positiveNumber <= 0):   #checking if the number is positive or not\n",
    "        print('Please insert positive number')  \n",
    "    else:\n",
    "        if (positiveNumber%2) == 0:   \n",
    "            print(int(positiveNumber))\n",
    "            collatz(positiveNumber/2)  #calling collatz method\n",
    "        else:\n",
    "            print(int(positiveNumber))\n",
    "            if(positiveNumber != 1):\n",
    "                odd = (3*positiveNumber + 1)\n",
    "                collatz(odd)  #calling collatz method\n",
    "collatz(-1)        \n",
    "collatz(10)\n"
   ]
  },
  {
   "cell_type": "markdown",
   "metadata": {},
   "source": [
    "# Question 6"
   ]
  },
  {
   "cell_type": "code",
   "execution_count": 8,
   "metadata": {},
   "outputs": [
    {
     "name": "stdout",
     "output_type": "stream",
     "text": [
      "0 1 0 1 0 0 "
     ]
    }
   ],
   "source": [
    "def binary(posiNumber):\n",
    "    'Convertng integer to binary number using recursion'\n",
    "    #Base method\n",
    "    if(posiNumber > 0):  #checking if number is less than 0\n",
    "        binary(posiNumber//2)\n",
    "    print(posiNumber % 2,end = ' ')\n",
    "      \n",
    "binary(20)"
   ]
  },
  {
   "cell_type": "markdown",
   "metadata": {},
   "source": [
    "# Question 7"
   ]
  },
  {
   "cell_type": "code",
   "execution_count": 9,
   "metadata": {},
   "outputs": [
    {
     "name": "stdout",
     "output_type": "stream",
     "text": [
      "W3C Mission\n",
      " Principles\n"
     ]
    }
   ],
   "source": [
    "from html.parser import HTMLParser\n",
    "\n",
    "class HeadingParser(HTMLParser):\n",
    "    'Heading parser class to parse header tag'\n",
    "    def __init__(self):\n",
    "        'initializing startTag and parser'\n",
    "        self.startTag = \"\"\n",
    "        HTMLParser.__init__(self)\n",
    "\n",
    "    def handle_starttag(self, tag, attrs):\n",
    "        'handle starttag'\n",
    "        self.startTag = tag\n",
    "    \n",
    "    \n",
    "    def handle_data(self, data):\n",
    "        'handle data'\n",
    "        if(self.startTag=='h1'):  #checking h1 tag\n",
    "            print(data)  # printing data\n",
    "        if(self.startTag=='h2'):  #checking h2 tag\n",
    "            print(\" \"+data)  # adding indent and printing data\n",
    "        if(self.startTag=='h3'):  #checking h3 tag\n",
    "            print(\"  \"+data)  # adding indent and printing data\n",
    "        if(self.startTag=='h4'):  #checking h4 tag\n",
    "            print(\"   \"+data)  # adding indent and printing data\n",
    "        if(self.startTag=='h5'):  #checking h5 tag\n",
    "            print(\"    \"+data)   # adding indent and printing data\n",
    "        if(self.startTag=='h6'):  #checking h6 tag\n",
    "            print(\"     \"+data)   # adding indent and printing data\n",
    "        self.startTag = \"\"\n",
    "\n",
    "infile = open(r'desktop/w3c.html')  \n",
    "content = infile.read()\n",
    "infile.close()\n",
    "hp = HeadingParser()\n",
    "hp.feed(content)\n",
    "\n",
    "            \n"
   ]
  },
  {
   "cell_type": "markdown",
   "metadata": {},
   "source": [
    "# Question 8"
   ]
  },
  {
   "cell_type": "code",
   "execution_count": null,
   "metadata": {},
   "outputs": [],
   "source": [
    "from html.parser import HTMLParser\n",
    "from urllib.parse import urljoin\n",
    "from urllib.request import urlopen\n",
    "\n",
    "class LinkParser(HTMLParser):\n",
    "    'Link parser class to parse the links'\n",
    " \n",
    "    def __init__(self,url):\n",
    "        'initializing urllist and url'\n",
    "        HTMLParser.__init__(self)\n",
    "        self.url = url\n",
    "        self.urllst = []\n",
    "        \n",
    "        \n",
    "    def handle_starttag(self, tag, attrs):\n",
    "        'handle starttag method'\n",
    "        self.start_tag = tag\n",
    "        if(tag=='a'):  #checking tag \n",
    "            for names,values in attrs:  #for loop to take out names and values \n",
    "                if(name=='href'):  #checking is the attribute is href\n",
    "                    self.urllst.append(value)  # if yes append the data\n",
    "\n",
    "    def getUrllst(self):\n",
    "        'get method to return list'\n",
    "        return self.urllst  \n",
    "\n",
    "\n",
    "def webdir(url,depth,indent):\n",
    "    'webdir method to parsing and print output'\n",
    "        openurl = urlopen(url)\n",
    "        content = openurl.read().decode()\n",
    "        collector = LinkParser(url)\n",
    "        collector.feed(content)\n",
    "        urlcollector = collector.getUrllst()\n",
    "        \n",
    "        print('{}{}'.format(indent*' ',url))\n",
    "        \n",
    "        for i in urlcollector:\n",
    "            'loop to check url in url collector'\n",
    "            if depth>0:\n",
    "                webdir(i,depth-1,indent++2)\n",
    "                \n",
    "                \n",
    "webdir('https://www.canada.ca/en/immigration-refugees-citizenship.html', 2, 0)"
   ]
  },
  {
   "cell_type": "markdown",
   "metadata": {},
   "source": [
    "# Question 9"
   ]
  },
  {
   "cell_type": "code",
   "execution_count": null,
   "metadata": {},
   "outputs": [],
   "source": [
    "import sqlite3\n",
    "con = sqlite3.connect('Assignment.db')\n",
    "cur = con.cursor()\n",
    "cur.execute(\"CREATE TABLE Assignment_tab (City text,Country text,Season Text,Temperature float,Rainfall flaot)\")\n",
    "cur.execute(\"INSERT INTO weathr_tab VALUES ('Mumbai', 'India', 'Winter', 24.8, 5.9)\")\n",
    "cur.execute(\"INSERT INTO weathr_tab VALUES ('Mumbai', 'India', 'Spring', 28.4, 16.2)\")\n",
    "cur.execute(\"INSERT INTO weathr_tab VALUES ('Mumbai', 'India', 'Summer', 27.9, 1549.4)\")\n",
    "cur.execute(\"INSERT INTO weathr_tab VALUES ('Mumbai', 'India', 'Fall', 27.6, 346.0)\")\n",
    "cur.execute(\"INSERT INTO weathr_tab VALUES ('Londom', 'United Kingdom', 'Winter', 4.2, 207.7)\")\n",
    "cur.execute(\"INSERT INTO weathr_tab VALUES ('Londom', 'United Kingdom', 'Spring', 8.3, 169.6)\")\n",
    "cur.execute(\"INSERT INTO weathr_tab VALUES ('Londom', 'United Kingdom', 'Summer', 15.7, 157.0)\")\n",
    "cur.execute(\"INSERT INTO weathr_tab VALUES ('Londom', 'United Kingdom', 'Fall', 10.4, 218.5)\")\n",
    "cur.execute(\"INSERT INTO weathr_tab VALUES ('Cairo', 'Egypt', 'Winter', 13.6, 16.5)\")\n",
    "cur.execute(\"INSERT INTO weathr_tab VALUES ('Cairo', 'Egypt', 'Spring', 20.7, 6.5)\")\n",
    "cur.execute(\"INSERT INTO weathr_tab VALUES ('Cairo', 'Egypt', 'Summer', 27.7, 0.1)\")\n",
    "cur.execute(\"INSERT INTO weathr_tab VALUES ('Cairo', 'Egypt', 'Fall', 22.2, 4.5)\")\n",
    "con.commit()\n",
    "con.close()\n",
    "\n",
    "\n",
    "cur.execute('SELECT Temperature FROM Assignment_tab')  #Query to get the temperature field data\n",
    "\n",
    "cur.execute('SELECT DISTINCT City FROM Assignment_tab')   #Query to get the ditinct City name from the table\n",
    "\n",
    "cur.execute('SELECT * FROM Assignment_tab WHERE Country = 'India'')    #Query to get all the records from India\n",
    "\n",
    "\n",
    "cur.execute('SELECT * FROM Assignment_tab WHERE Season = 'Fall'')   #Query to get records from the fall season\n",
    "\n",
    "\n",
    "cur.execute('SELECT City,Country,Season FROM Assignment_tab WHERE Rainfall BETWEEN 200 AND 400') #Query to get the City,Coutry,Season where the rainfall is between 200 and 400 millimeter\n",
    "\n",
    "\n",
    "cur.execute('SELECT City,Country FROM Assignment_tab WHERE Season = 'Fall' AND Temperature < 20 ORDER by Temperature ASC')\n",
    "  #Query to get City and Country where temperature is above 20\n",
    "\n",
    "\n",
    "cur.execute('SELECT SUM(Rainfall) FROM Assignment_tab WHERE City = 'Cairo'')    #Query to get the SUM of rainfall in Cairo\n",
    "\n",
    "\n",
    "cur.execute('SELECT Season,SUM(Rainfall) FROM Assignment_tab GROUP by Season') #Query to get total rainfall  for each season\n",
    "\n",
    "\n"
   ]
  },
  {
   "cell_type": "markdown",
   "metadata": {},
   "source": [
    "# Question 10"
   ]
  },
  {
   "cell_type": "code",
   "execution_count": 10,
   "metadata": {},
   "outputs": [
    {
     "name": "stdout",
     "output_type": "stream",
     "text": [
      "['THE', 'QUICK', 'BROWN', 'FOX', 'JUMPS', 'OVER', 'THE', 'LAZY', 'DOG']\n",
      "['the', 'quick', 'brown', 'fox', 'jumps', 'over', 'the', 'lazy', 'dog']\n",
      "[3, 5, 5, 3, 5, 4, 3, 4, 3]\n",
      "[['THE', 'the', 3], ['QUICK', 'quick', 5], ['BROWN', 'brown', 5], ['FOX', 'fox', 3], ['JUMPS', 'jumps', 5], ['OVER', 'over', 4], ['THE', 'the', 3], ['LAZY', 'lazy', 4], ['DOG', 'dog', 3]]\n",
      "['quick', 'brown', 'jumps', 'over', 'lazy']\n"
     ]
    }
   ],
   "source": [
    "words = ['The', 'quick', 'brown', 'fox', 'jumps', 'over', 'the', 'lazy', 'dog']\n",
    "uppercase = [x.upper() for x in words]   #converting list element into uppercase \n",
    "print(uppercase)\n",
    "lowercase = [x.lower() for x in words]   #converting list element into lowercase \n",
    "print(lowercase)\n",
    "length = [len(l) for l in words]    #calculating len of the list element\n",
    "print(length)\n",
    "total = [[x.upper(),x.lower(),len(x)] for x in words]   #converting elemet into upper,lower and calculating length\n",
    "print(total)\n",
    "check = [x for x in words if len(x) >= 4]  #printing elemet more than 4 chararcter\n",
    "print(check)"
   ]
  },
  {
   "cell_type": "code",
   "execution_count": null,
   "metadata": {},
   "outputs": [],
   "source": []
  }
 ],
 "metadata": {
  "kernelspec": {
   "display_name": "Python 3",
   "language": "python",
   "name": "python3"
  },
  "language_info": {
   "codemirror_mode": {
    "name": "ipython",
    "version": 3
   },
   "file_extension": ".py",
   "mimetype": "text/x-python",
   "name": "python",
   "nbconvert_exporter": "python",
   "pygments_lexer": "ipython3",
   "version": "3.7.4"
  }
 },
 "nbformat": 4,
 "nbformat_minor": 2
}
